{
 "cells": [
  {
   "cell_type": "code",
   "execution_count": 1,
   "metadata": {},
   "outputs": [],
   "source": [
    "# get fundamental data\n",
    "import requests\n",
    "\n",
    "stockCode = 'AAPL'\n",
    "\n",
    "# set api key\n",
    "\n"
   ]
  },
  {
   "cell_type": "code",
   "execution_count": null,
   "metadata": {},
   "outputs": [],
   "source": [
    "def findNone(balance_df_):\n",
    "    col = []\n",
    "    for i in balance_df_.columns:\n",
    "        for j in balance_df_[i]:\n",
    "            if 'None' in j:\n",
    "                if i in col:\n",
    "                    pass\n",
    "                else:\n",
    "                    col.append(i)\n",
    "    return col\n",
    "    \n",
    "\n",
    "def getFundament(stockCode):\n",
    "    stockCode = stockCode\n",
    "    api = \"7OVAOOPNIMKJKIAX\"\n",
    "    r = requests.get(\"https://www.alphavantage.co/query?function=INCOME_STATEMENT&symbol=\"+stockCode+\"&apikey=\" + api)    \n",
    "    \n",
    "    "
   ]
  }
 ],
 "metadata": {
  "kernelspec": {
   "display_name": "Python 3",
   "language": "python",
   "name": "python3"
  },
  "language_info": {
   "codemirror_mode": {
    "name": "ipython",
    "version": 3
   },
   "file_extension": ".py",
   "mimetype": "text/x-python",
   "name": "python",
   "nbconvert_exporter": "python",
   "pygments_lexer": "ipython3",
   "version": "3.7.6"
  }
 },
 "nbformat": 4,
 "nbformat_minor": 4
}
